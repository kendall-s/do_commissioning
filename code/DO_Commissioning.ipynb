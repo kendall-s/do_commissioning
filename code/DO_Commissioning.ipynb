{
 "cells": [
  {
   "cell_type": "markdown",
   "metadata": {},
   "source": [
    "# This notebook contains the code for plotting the Dissolved Oxygen Commissioning plots"
   ]
  },
  {
   "cell_type": "markdown",
   "metadata": {},
   "source": [
    "### Two new dissolved oxygen instruments were purchased from Scripps - these new instruments were subsequently taken on in2020_e01 for commissioning. The data below was collected on the voyage where all 3 instruments (2 new, 1 old) were setup in the same laboratory space and operated in parallel."
   ]
  },
  {
   "cell_type": "markdown",
   "metadata": {},
   "source": [
    "#### Imports and style sets:"
   ]
  },
  {
   "cell_type": "code",
   "execution_count": 187,
   "metadata": {},
   "outputs": [],
   "source": [
    "import pandas as pd\n",
    "import matplotlib.pyplot as plt\n",
    "import matplotlib as mpl\n",
    "import seaborn as sns\n",
    "import seawater as sw\n",
    "import scipy.stats as sci_st\n",
    "\n",
    "sns.set(style=\"whitegrid\") # I like this\n",
    "mpl.rc('font', family='serif') # Cast Segoe UI font onto all plot text\n",
    "mpl.rc('figure', figsize=[8, 5]) # Set fig size to something more fitting for A4 word doc"
   ]
  },
  {
   "cell_type": "markdown",
   "metadata": {},
   "source": [
    "---"
   ]
  },
  {
   "cell_type": "markdown",
   "metadata": {},
   "source": [
    "## 1.1 Independent Iodate Standards"
   ]
  },
  {
   "cell_type": "code",
   "execution_count": 4,
   "metadata": {},
   "outputs": [],
   "source": [
    "iodate_df = pd.read_csv(r\"C:\\Users\\she384\\Documents\\DO Commissioning\\repo\\data\\independent_iodate.csv\")"
   ]
  },
  {
   "cell_type": "code",
   "execution_count": 6,
   "metadata": {},
   "outputs": [
    {
     "data": {
      "text/html": [
       "<div>\n",
       "<style scoped>\n",
       "    .dataframe tbody tr th:only-of-type {\n",
       "        vertical-align: middle;\n",
       "    }\n",
       "\n",
       "    .dataframe tbody tr th {\n",
       "        vertical-align: top;\n",
       "    }\n",
       "\n",
       "    .dataframe thead th {\n",
       "        text-align: right;\n",
       "    }\n",
       "</style>\n",
       "<table border=\"1\" class=\"dataframe\">\n",
       "  <thead>\n",
       "    <tr style=\"text-align: right;\">\n",
       "      <th></th>\n",
       "      <th>Instrument</th>\n",
       "      <th>Bottle</th>\n",
       "      <th>FlaskVol</th>\n",
       "      <th>RawTitre</th>\n",
       "      <th>Titre20</th>\n",
       "      <th>O2ml/L</th>\n",
       "      <th>ThioTemp</th>\n",
       "      <th>DrawTemp</th>\n",
       "      <th>EndVolts</th>\n",
       "      <th>TitreTime</th>\n",
       "      <th>O2µmol/L</th>\n",
       "    </tr>\n",
       "  </thead>\n",
       "  <tbody>\n",
       "    <tr>\n",
       "      <th>0</th>\n",
       "      <td>New A</td>\n",
       "      <td>200</td>\n",
       "      <td>142.19</td>\n",
       "      <td>0.51524</td>\n",
       "      <td>0.51529</td>\n",
       "      <td>4.964</td>\n",
       "      <td>19.46</td>\n",
       "      <td>20</td>\n",
       "      <td>2.450</td>\n",
       "      <td>155700</td>\n",
       "      <td>221.5632</td>\n",
       "    </tr>\n",
       "    <tr>\n",
       "      <th>1</th>\n",
       "      <td>New A</td>\n",
       "      <td>200</td>\n",
       "      <td>142.19</td>\n",
       "      <td>0.51495</td>\n",
       "      <td>0.51496</td>\n",
       "      <td>4.960</td>\n",
       "      <td>19.86</td>\n",
       "      <td>20</td>\n",
       "      <td>2.412</td>\n",
       "      <td>160520</td>\n",
       "      <td>221.4292</td>\n",
       "    </tr>\n",
       "    <tr>\n",
       "      <th>2</th>\n",
       "      <td>New A</td>\n",
       "      <td>200</td>\n",
       "      <td>142.19</td>\n",
       "      <td>0.51513</td>\n",
       "      <td>0.51514</td>\n",
       "      <td>4.962</td>\n",
       "      <td>19.86</td>\n",
       "      <td>20</td>\n",
       "      <td>2.427</td>\n",
       "      <td>161045</td>\n",
       "      <td>221.5186</td>\n",
       "    </tr>\n",
       "    <tr>\n",
       "      <th>3</th>\n",
       "      <td>New A</td>\n",
       "      <td>200</td>\n",
       "      <td>142.19</td>\n",
       "      <td>0.51485</td>\n",
       "      <td>0.51486</td>\n",
       "      <td>4.959</td>\n",
       "      <td>19.91</td>\n",
       "      <td>20</td>\n",
       "      <td>2.424</td>\n",
       "      <td>161648</td>\n",
       "      <td>221.3846</td>\n",
       "    </tr>\n",
       "    <tr>\n",
       "      <th>4</th>\n",
       "      <td>New B</td>\n",
       "      <td>200</td>\n",
       "      <td>142.19</td>\n",
       "      <td>0.61870</td>\n",
       "      <td>0.61877</td>\n",
       "      <td>4.960</td>\n",
       "      <td>19.40</td>\n",
       "      <td>20</td>\n",
       "      <td>2.358</td>\n",
       "      <td>160025</td>\n",
       "      <td>221.5632</td>\n",
       "    </tr>\n",
       "  </tbody>\n",
       "</table>\n",
       "</div>"
      ],
      "text/plain": [
       "  Instrument  Bottle  FlaskVol  RawTitre  Titre20  O2ml/L  ThioTemp  DrawTemp  \\\n",
       "0      New A     200    142.19   0.51524  0.51529   4.964     19.46        20   \n",
       "1      New A     200    142.19   0.51495  0.51496   4.960     19.86        20   \n",
       "2      New A     200    142.19   0.51513  0.51514   4.962     19.86        20   \n",
       "3      New A     200    142.19   0.51485  0.51486   4.959     19.91        20   \n",
       "4      New B     200    142.19   0.61870  0.61877   4.960     19.40        20   \n",
       "\n",
       "   EndVolts  TitreTime  O2µmol/L  \n",
       "0     2.450     155700  221.5632  \n",
       "1     2.412     160520  221.4292  \n",
       "2     2.427     161045  221.5186  \n",
       "3     2.424     161648  221.3846  \n",
       "4     2.358     160025  221.5632  "
      ]
     },
     "execution_count": 6,
     "metadata": {},
     "output_type": "execute_result"
    }
   ],
   "source": [
    "iodate_df.head()"
   ]
  },
  {
   "cell_type": "code",
   "execution_count": 176,
   "metadata": {},
   "outputs": [
    {
     "data": {
      "image/png": "[encoded data removed]",
      "text/plain": [
       "<Figure size 576x360 with 1 Axes>"
      ]
     },
     "metadata": {},
     "output_type": "display_data"
    }
   ],
   "source": [
    "sns.boxplot(iodate_df['Instrument'], iodate_df['O2µmol/L'])\n",
    "\n",
    "plt.xlabel(\"Instrument\", fontsize=16)\n",
    "plt.ylabel(\"Concentration (uM)\", fontsize=16)\n",
    "plt.xticks(fontsize=14)\n",
    "plt.yticks(fontsize=12)\n",
    "plt.title('Independent Iodate Standard', fontsize=18)\n",
    "\n",
    "plt.tight_layout()\n",
    "\n",
    "# Comment or include next two lines if wanting to scale chart for all\n",
    "#data_mean = iodate_df['O2µmol/L'].mean()\n",
    "#plt.ylim(data_mean-2, data_mean+2)\n",
    "\n",
    "plt.savefig('independent_iodate_standards.svg', format='svg')"
   ]
  },
  {
   "cell_type": "markdown",
   "metadata": {},
   "source": [
    "---"
   ]
  },
  {
   "cell_type": "markdown",
   "metadata": {},
   "source": [
    "## 1.2 Repeated Deep Sample Measurements: 1"
   ]
  },
  {
   "cell_type": "markdown",
   "metadata": {},
   "source": [
    "### 1.2.1 Samples from One Niskin per Instrument"
   ]
  },
  {
   "cell_type": "code",
   "execution_count": 8,
   "metadata": {},
   "outputs": [],
   "source": [
    "deep_reps_single_df = pd.read_csv(r\"C:\\Users\\she384\\Documents\\DO Commissioning\\repo\\data\\dep_1_deep_replicates_single_niskins.csv\")"
   ]
  },
  {
   "cell_type": "code",
   "execution_count": 9,
   "metadata": {},
   "outputs": [
    {
     "data": {
      "text/html": [
       "<div>\n",
       "<style scoped>\n",
       "    .dataframe tbody tr th:only-of-type {\n",
       "        vertical-align: middle;\n",
       "    }\n",
       "\n",
       "    .dataframe tbody tr th {\n",
       "        vertical-align: top;\n",
       "    }\n",
       "\n",
       "    .dataframe thead th {\n",
       "        text-align: right;\n",
       "    }\n",
       "</style>\n",
       "<table border=\"1\" class=\"dataframe\">\n",
       "  <thead>\n",
       "    <tr style=\"text-align: right;\">\n",
       "      <th></th>\n",
       "      <th>Instrument</th>\n",
       "      <th>Bottle</th>\n",
       "      <th>FlaskVol</th>\n",
       "      <th>RawTitre</th>\n",
       "      <th>Titre20</th>\n",
       "      <th>O2ml/L</th>\n",
       "      <th>ThioTemp</th>\n",
       "      <th>DrawTemp</th>\n",
       "      <th>EndVolts</th>\n",
       "      <th>TitreTime</th>\n",
       "      <th>O2µmol/L</th>\n",
       "      <th>RP</th>\n",
       "    </tr>\n",
       "  </thead>\n",
       "  <tbody>\n",
       "    <tr>\n",
       "      <th>0</th>\n",
       "      <td>New A</td>\n",
       "      <td>143</td>\n",
       "      <td>145.25</td>\n",
       "      <td>0.44525</td>\n",
       "      <td>0.44526</td>\n",
       "      <td>4.195</td>\n",
       "      <td>19.88</td>\n",
       "      <td>6.7</td>\n",
       "      <td>2.423</td>\n",
       "      <td>162322</td>\n",
       "      <td>187.3082</td>\n",
       "      <td>4</td>\n",
       "    </tr>\n",
       "    <tr>\n",
       "      <th>1</th>\n",
       "      <td>New A</td>\n",
       "      <td>144</td>\n",
       "      <td>146.25</td>\n",
       "      <td>0.44776</td>\n",
       "      <td>0.44777</td>\n",
       "      <td>4.190</td>\n",
       "      <td>19.84</td>\n",
       "      <td>6.9</td>\n",
       "      <td>2.471</td>\n",
       "      <td>162637</td>\n",
       "      <td>187.0403</td>\n",
       "      <td>4</td>\n",
       "    </tr>\n",
       "    <tr>\n",
       "      <th>2</th>\n",
       "      <td>New A</td>\n",
       "      <td>148</td>\n",
       "      <td>143.04</td>\n",
       "      <td>0.43883</td>\n",
       "      <td>0.43884</td>\n",
       "      <td>4.199</td>\n",
       "      <td>19.90</td>\n",
       "      <td>7.1</td>\n",
       "      <td>2.405</td>\n",
       "      <td>163229</td>\n",
       "      <td>187.4869</td>\n",
       "      <td>4</td>\n",
       "    </tr>\n",
       "    <tr>\n",
       "      <th>3</th>\n",
       "      <td>New A</td>\n",
       "      <td>150</td>\n",
       "      <td>140.86</td>\n",
       "      <td>0.43107</td>\n",
       "      <td>0.43108</td>\n",
       "      <td>4.189</td>\n",
       "      <td>19.84</td>\n",
       "      <td>7.2</td>\n",
       "      <td>2.389</td>\n",
       "      <td>163558</td>\n",
       "      <td>187.0403</td>\n",
       "      <td>4</td>\n",
       "    </tr>\n",
       "    <tr>\n",
       "      <th>4</th>\n",
       "      <td>New A</td>\n",
       "      <td>152</td>\n",
       "      <td>145.03</td>\n",
       "      <td>0.44393</td>\n",
       "      <td>0.44395</td>\n",
       "      <td>4.189</td>\n",
       "      <td>19.82</td>\n",
       "      <td>7.4</td>\n",
       "      <td>2.393</td>\n",
       "      <td>163904</td>\n",
       "      <td>187.0403</td>\n",
       "      <td>4</td>\n",
       "    </tr>\n",
       "  </tbody>\n",
       "</table>\n",
       "</div>"
      ],
      "text/plain": [
       "  Instrument  Bottle  FlaskVol  RawTitre  Titre20  O2ml/L  ThioTemp  DrawTemp  \\\n",
       "0      New A     143    145.25   0.44525  0.44526   4.195     19.88       6.7   \n",
       "1      New A     144    146.25   0.44776  0.44777   4.190     19.84       6.9   \n",
       "2      New A     148    143.04   0.43883  0.43884   4.199     19.90       7.1   \n",
       "3      New A     150    140.86   0.43107  0.43108   4.189     19.84       7.2   \n",
       "4      New A     152    145.03   0.44393  0.44395   4.189     19.82       7.4   \n",
       "\n",
       "   EndVolts  TitreTime  O2µmol/L  RP  \n",
       "0     2.423     162322  187.3082   4  \n",
       "1     2.471     162637  187.0403   4  \n",
       "2     2.405     163229  187.4869   4  \n",
       "3     2.389     163558  187.0403   4  \n",
       "4     2.393     163904  187.0403   4  "
      ]
     },
     "execution_count": 9,
     "metadata": {},
     "output_type": "execute_result"
    }
   ],
   "source": [
    "deep_reps_single_df.head()"
   ]
  },
  {
   "cell_type": "code",
   "execution_count": 177,
   "metadata": {},
   "outputs": [
    {
     "data": {
      "image/png": "[encoded data removed]",
      "text/plain": [
       "<Figure size 576x360 with 1 Axes>"
      ]
     },
     "metadata": {},
     "output_type": "display_data"
    }
   ],
   "source": [
    "sns.boxplot(deep_reps_single_df['Instrument'], deep_reps_single_df['O2µmol/L'])\n",
    "\n",
    "plt.xlabel(\"Instrument\", fontsize=16)\n",
    "plt.ylabel(\"Concentration (uM)\", fontsize=16)\n",
    "plt.xticks(fontsize=14)\n",
    "plt.yticks(fontsize=12)\n",
    "plt.title('D1 Replicate Samples: 1 Niskin ea', fontsize=18)\n",
    "\n",
    "plt.tight_layout()\n",
    "\n",
    "# Comment or include next two lines if wanting to scale chart for all\n",
    "#data_mean = deep_reps_single_df['O2µmol/L'].mean()\n",
    "#plt.ylim(data_mean-2, data_mean+2)\n",
    "\n",
    "plt.savefig('replicate_deep_samples_1_single.svg', format='svg')"
   ]
  },
  {
   "cell_type": "markdown",
   "metadata": {},
   "source": [
    "### 1.2.2 Descriptive Statistics"
   ]
  },
  {
   "cell_type": "code",
   "execution_count": 201,
   "metadata": {},
   "outputs": [
    {
     "data": {
      "text/html": [
       "<div>\n",
       "<style scoped>\n",
       "    .dataframe tbody tr th:only-of-type {\n",
       "        vertical-align: middle;\n",
       "    }\n",
       "\n",
       "    .dataframe tbody tr th {\n",
       "        vertical-align: top;\n",
       "    }\n",
       "\n",
       "    .dataframe thead th {\n",
       "        text-align: right;\n",
       "    }\n",
       "</style>\n",
       "<table border=\"1\" class=\"dataframe\">\n",
       "  <thead>\n",
       "    <tr style=\"text-align: right;\">\n",
       "      <th></th>\n",
       "      <th>count</th>\n",
       "      <th>mean</th>\n",
       "      <th>std</th>\n",
       "      <th>min</th>\n",
       "      <th>25%</th>\n",
       "      <th>50%</th>\n",
       "      <th>75%</th>\n",
       "      <th>max</th>\n",
       "    </tr>\n",
       "    <tr>\n",
       "      <th>Instrument</th>\n",
       "      <th></th>\n",
       "      <th></th>\n",
       "      <th></th>\n",
       "      <th></th>\n",
       "      <th></th>\n",
       "      <th></th>\n",
       "      <th></th>\n",
       "      <th></th>\n",
       "    </tr>\n",
       "  </thead>\n",
       "  <tbody>\n",
       "    <tr>\n",
       "      <th>New A</th>\n",
       "      <td>6.0</td>\n",
       "      <td>187.196600</td>\n",
       "      <td>0.186819</td>\n",
       "      <td>187.0403</td>\n",
       "      <td>187.040300</td>\n",
       "      <td>187.15195</td>\n",
       "      <td>187.297050</td>\n",
       "      <td>187.4869</td>\n",
       "    </tr>\n",
       "    <tr>\n",
       "      <th>New B</th>\n",
       "      <td>6.0</td>\n",
       "      <td>187.218917</td>\n",
       "      <td>0.252660</td>\n",
       "      <td>186.7276</td>\n",
       "      <td>187.207775</td>\n",
       "      <td>187.33055</td>\n",
       "      <td>187.352900</td>\n",
       "      <td>187.3976</td>\n",
       "    </tr>\n",
       "    <tr>\n",
       "      <th>Old</th>\n",
       "      <td>6.0</td>\n",
       "      <td>187.181700</td>\n",
       "      <td>0.099515</td>\n",
       "      <td>187.0403</td>\n",
       "      <td>187.129600</td>\n",
       "      <td>187.17425</td>\n",
       "      <td>187.252425</td>\n",
       "      <td>187.3082</td>\n",
       "    </tr>\n",
       "  </tbody>\n",
       "</table>\n",
       "</div>"
      ],
      "text/plain": [
       "            count        mean       std       min         25%        50%  \\\n",
       "Instrument                                                                 \n",
       "New A         6.0  187.196600  0.186819  187.0403  187.040300  187.15195   \n",
       "New B         6.0  187.218917  0.252660  186.7276  187.207775  187.33055   \n",
       "Old           6.0  187.181700  0.099515  187.0403  187.129600  187.17425   \n",
       "\n",
       "                   75%       max  \n",
       "Instrument                        \n",
       "New A       187.297050  187.4869  \n",
       "New B       187.352900  187.3976  \n",
       "Old         187.252425  187.3082  "
      ]
     },
     "execution_count": 201,
     "metadata": {},
     "output_type": "execute_result"
    }
   ],
   "source": [
    "deep_reps_single_df.groupby(['Instrument'])['O2µmol/L'].describe()"
   ]
  },
  {
   "cell_type": "markdown",
   "metadata": {},
   "source": [
    "### 1.2.3 T-Test Comparison of Means"
   ]
  },
  {
   "cell_type": "code",
   "execution_count": 202,
   "metadata": {},
   "outputs": [],
   "source": [
    "deep_reps_single_newa = deep_reps_single_df.loc[deep_reps_single_df['Instrument'] == 'New A']\n",
    "deep_reps_single_newb = deep_reps_single_df.loc[deep_reps_single_df['Instrument'] == 'New B']\n",
    "deep_reps_single_old = deep_reps_single_df.loc[deep_reps_single_df['Instrument'] == 'Old']"
   ]
  },
  {
   "cell_type": "markdown",
   "metadata": {},
   "source": [
    "#### Compare New A to Old instrument"
   ]
  },
  {
   "cell_type": "code",
   "execution_count": 203,
   "metadata": {},
   "outputs": [
    {
     "name": "stdout",
     "output_type": "stream",
     "text": [
      "Comparison of the New A instrument to Old, p-value: 0.8665430859682957\n"
     ]
    }
   ],
   "source": [
    "result = sci_st.ttest_ind(deep_reps_single_newa['O2µmol/L'], deep_reps_single_old['O2µmol/L'])\n",
    "print(f'Comparison of the New A instrument to Old, p-value: {result[1]}')\n",
    "if result[1] < 0.05:\n",
    "    print('Significance !')"
   ]
  },
  {
   "cell_type": "markdown",
   "metadata": {},
   "source": [
    "#### Compare New B to Old instrument"
   ]
  },
  {
   "cell_type": "code",
   "execution_count": 204,
   "metadata": {},
   "outputs": [
    {
     "name": "stdout",
     "output_type": "stream",
     "text": [
      "Comparison of the New B instrument to Old, p-value: 0.7440286422028863\n"
     ]
    }
   ],
   "source": [
    "result = sci_st.ttest_ind(deep_reps_single_newb['O2µmol/L'], deep_reps_single_old['O2µmol/L'])\n",
    "print(f'Comparison of the New B instrument to Old, p-value: {result[1]}')\n",
    "if result[1] < 0.05:\n",
    "    print('Significance !')"
   ]
  },
  {
   "cell_type": "markdown",
   "metadata": {},
   "source": [
    "### 1.2.4 Samples from Two Niskins for all Instruments"
   ]
  },
  {
   "cell_type": "code",
   "execution_count": 24,
   "metadata": {},
   "outputs": [],
   "source": [
    "deep_reps_shared_df = pd.read_csv(r\"C:\\Users\\she384\\Documents\\DO Commissioning\\repo\\data\\dep_1_deep_replicates_shared_niskins.csv\")"
   ]
  },
  {
   "cell_type": "code",
   "execution_count": 25,
   "metadata": {},
   "outputs": [
    {
     "data": {
      "text/html": [
       "<div>\n",
       "<style scoped>\n",
       "    .dataframe tbody tr th:only-of-type {\n",
       "        vertical-align: middle;\n",
       "    }\n",
       "\n",
       "    .dataframe tbody tr th {\n",
       "        vertical-align: top;\n",
       "    }\n",
       "\n",
       "    .dataframe thead th {\n",
       "        text-align: right;\n",
       "    }\n",
       "</style>\n",
       "<table border=\"1\" class=\"dataframe\">\n",
       "  <thead>\n",
       "    <tr style=\"text-align: right;\">\n",
       "      <th></th>\n",
       "      <th>Instrument</th>\n",
       "      <th>Bottle</th>\n",
       "      <th>FlaskVol</th>\n",
       "      <th>RawTitre</th>\n",
       "      <th>Titre20</th>\n",
       "      <th>O2ml/L</th>\n",
       "      <th>ThioTemp</th>\n",
       "      <th>DrawTemp</th>\n",
       "      <th>EndVolts</th>\n",
       "      <th>TitreTime</th>\n",
       "      <th>O2µmol/L</th>\n",
       "      <th>RP</th>\n",
       "    </tr>\n",
       "  </thead>\n",
       "  <tbody>\n",
       "    <tr>\n",
       "      <th>0</th>\n",
       "      <td>New A</td>\n",
       "      <td>161</td>\n",
       "      <td>144.68</td>\n",
       "      <td>0.44360</td>\n",
       "      <td>0.44343</td>\n",
       "      <td>4.195</td>\n",
       "      <td>21.84</td>\n",
       "      <td>7.0</td>\n",
       "      <td>2.074</td>\n",
       "      <td>232544</td>\n",
       "      <td>187.2636</td>\n",
       "      <td>5</td>\n",
       "    </tr>\n",
       "    <tr>\n",
       "      <th>1</th>\n",
       "      <td>New A</td>\n",
       "      <td>167</td>\n",
       "      <td>144.39</td>\n",
       "      <td>0.44349</td>\n",
       "      <td>0.44331</td>\n",
       "      <td>4.202</td>\n",
       "      <td>21.88</td>\n",
       "      <td>7.4</td>\n",
       "      <td>2.132</td>\n",
       "      <td>232834</td>\n",
       "      <td>187.6209</td>\n",
       "      <td>5</td>\n",
       "    </tr>\n",
       "    <tr>\n",
       "      <th>2</th>\n",
       "      <td>New A</td>\n",
       "      <td>211</td>\n",
       "      <td>144.58</td>\n",
       "      <td>0.44272</td>\n",
       "      <td>0.44254</td>\n",
       "      <td>4.189</td>\n",
       "      <td>21.95</td>\n",
       "      <td>7.2</td>\n",
       "      <td>2.137</td>\n",
       "      <td>233205</td>\n",
       "      <td>187.0403</td>\n",
       "      <td>6</td>\n",
       "    </tr>\n",
       "    <tr>\n",
       "      <th>3</th>\n",
       "      <td>New A</td>\n",
       "      <td>217</td>\n",
       "      <td>141.62</td>\n",
       "      <td>0.43344</td>\n",
       "      <td>0.43327</td>\n",
       "      <td>4.188</td>\n",
       "      <td>21.94</td>\n",
       "      <td>7.7</td>\n",
       "      <td>2.083</td>\n",
       "      <td>233501</td>\n",
       "      <td>186.9956</td>\n",
       "      <td>6</td>\n",
       "    </tr>\n",
       "    <tr>\n",
       "      <th>4</th>\n",
       "      <td>New B</td>\n",
       "      <td>162</td>\n",
       "      <td>145.50</td>\n",
       "      <td>0.53636</td>\n",
       "      <td>0.53638</td>\n",
       "      <td>4.199</td>\n",
       "      <td>19.81</td>\n",
       "      <td>7.2</td>\n",
       "      <td>2.270</td>\n",
       "      <td>233544</td>\n",
       "      <td>187.5762</td>\n",
       "      <td>5</td>\n",
       "    </tr>\n",
       "  </tbody>\n",
       "</table>\n",
       "</div>"
      ],
      "text/plain": [
       "  Instrument  Bottle  FlaskVol  RawTitre  Titre20  O2ml/L  ThioTemp  DrawTemp  \\\n",
       "0      New A     161    144.68   0.44360  0.44343   4.195     21.84       7.0   \n",
       "1      New A     167    144.39   0.44349  0.44331   4.202     21.88       7.4   \n",
       "2      New A     211    144.58   0.44272  0.44254   4.189     21.95       7.2   \n",
       "3      New A     217    141.62   0.43344  0.43327   4.188     21.94       7.7   \n",
       "4      New B     162    145.50   0.53636  0.53638   4.199     19.81       7.2   \n",
       "\n",
       "   EndVolts  TitreTime  O2µmol/L  RP  \n",
       "0     2.074     232544  187.2636   5  \n",
       "1     2.132     232834  187.6209   5  \n",
       "2     2.137     233205  187.0403   6  \n",
       "3     2.083     233501  186.9956   6  \n",
       "4     2.270     233544  187.5762   5  "
      ]
     },
     "execution_count": 25,
     "metadata": {},
     "output_type": "execute_result"
    }
   ],
   "source": [
    "deep_reps_shared_df.head()"
   ]
  },
  {
   "cell_type": "code",
   "execution_count": 178,
   "metadata": {},
   "outputs": [
    {
     "data": {
      "image/png": "[encoded data removed]",
      "text/plain": [
       "<Figure size 576x360 with 1 Axes>"
      ]
     },
     "metadata": {},
     "output_type": "display_data"
    }
   ],
   "source": [
    "sns.boxplot(deep_reps_shared_df['Instrument'], deep_reps_shared_df['O2µmol/L'])\n",
    "\n",
    "plt.xlabel(\"Instrument\", fontsize=16)\n",
    "plt.ylabel(\"Concentration (uM)\", fontsize=16)\n",
    "plt.xticks(fontsize=14)\n",
    "plt.yticks(fontsize=12)\n",
    "plt.title('D1 Replicate Samples: 2 Niskin shared', fontsize=18)\n",
    "\n",
    "plt.tight_layout()\n",
    "\n",
    "# Comment or include next two lines if wanting to scale chart for all\n",
    "#data_mean = deep_reps_shared_df['O2µmol/L'].mean()\n",
    "#plt.ylim(data_mean-2, data_mean+2)\n",
    "\n",
    "plt.savefig('replicate_deep_samples_1_shared.svg', format='svg')"
   ]
  },
  {
   "cell_type": "markdown",
   "metadata": {},
   "source": [
    "---"
   ]
  },
  {
   "cell_type": "markdown",
   "metadata": {},
   "source": [
    "## 1.3 Atmospheric Sample: All Instruments"
   ]
  },
  {
   "cell_type": "code",
   "execution_count": 30,
   "metadata": {},
   "outputs": [],
   "source": [
    "atmospheric_all_df = pd.read_csv(r\"C:\\Users\\she384\\Documents\\DO Commissioning\\repo\\data\\atmospheric_diff_instruments.csv\")"
   ]
  },
  {
   "cell_type": "code",
   "execution_count": 31,
   "metadata": {},
   "outputs": [
    {
     "data": {
      "text/html": [
       "<div>\n",
       "<style scoped>\n",
       "    .dataframe tbody tr th:only-of-type {\n",
       "        vertical-align: middle;\n",
       "    }\n",
       "\n",
       "    .dataframe tbody tr th {\n",
       "        vertical-align: top;\n",
       "    }\n",
       "\n",
       "    .dataframe thead th {\n",
       "        text-align: right;\n",
       "    }\n",
       "</style>\n",
       "<table border=\"1\" class=\"dataframe\">\n",
       "  <thead>\n",
       "    <tr style=\"text-align: right;\">\n",
       "      <th></th>\n",
       "      <th>Instrument</th>\n",
       "      <th>Bottle</th>\n",
       "      <th>FlaskVol</th>\n",
       "      <th>RawTitre</th>\n",
       "      <th>Titre20</th>\n",
       "      <th>O2ml/L</th>\n",
       "      <th>ThioTemp</th>\n",
       "      <th>DrawTemp</th>\n",
       "      <th>EndVolts</th>\n",
       "      <th>TitreTime</th>\n",
       "      <th>O2µmol/L</th>\n",
       "    </tr>\n",
       "  </thead>\n",
       "  <tbody>\n",
       "    <tr>\n",
       "      <th>0</th>\n",
       "      <td>New A</td>\n",
       "      <td>257</td>\n",
       "      <td>138.61</td>\n",
       "      <td>0.62271</td>\n",
       "      <td>0.62247</td>\n",
       "      <td>6.157</td>\n",
       "      <td>21.86</td>\n",
       "      <td>21.5</td>\n",
       "      <td>2.030</td>\n",
       "      <td>2101</td>\n",
       "      <td>274.8438</td>\n",
       "    </tr>\n",
       "    <tr>\n",
       "      <th>1</th>\n",
       "      <td>New A</td>\n",
       "      <td>260</td>\n",
       "      <td>140.86</td>\n",
       "      <td>0.63292</td>\n",
       "      <td>0.63285</td>\n",
       "      <td>6.158</td>\n",
       "      <td>20.50</td>\n",
       "      <td>21.5</td>\n",
       "      <td>2.009</td>\n",
       "      <td>2318</td>\n",
       "      <td>274.9331</td>\n",
       "    </tr>\n",
       "    <tr>\n",
       "      <th>2</th>\n",
       "      <td>New A</td>\n",
       "      <td>263</td>\n",
       "      <td>137.65</td>\n",
       "      <td>0.61726</td>\n",
       "      <td>0.61720</td>\n",
       "      <td>6.148</td>\n",
       "      <td>20.49</td>\n",
       "      <td>21.5</td>\n",
       "      <td>2.053</td>\n",
       "      <td>2617</td>\n",
       "      <td>274.4418</td>\n",
       "    </tr>\n",
       "    <tr>\n",
       "      <th>3</th>\n",
       "      <td>New A</td>\n",
       "      <td>266</td>\n",
       "      <td>142.77</td>\n",
       "      <td>0.64096</td>\n",
       "      <td>0.64089</td>\n",
       "      <td>6.152</td>\n",
       "      <td>20.48</td>\n",
       "      <td>21.5</td>\n",
       "      <td>2.017</td>\n",
       "      <td>2934</td>\n",
       "      <td>274.6205</td>\n",
       "    </tr>\n",
       "    <tr>\n",
       "      <th>4</th>\n",
       "      <td>New B</td>\n",
       "      <td>258</td>\n",
       "      <td>138.45</td>\n",
       "      <td>0.74709</td>\n",
       "      <td>0.74689</td>\n",
       "      <td>6.154</td>\n",
       "      <td>21.31</td>\n",
       "      <td>21.5</td>\n",
       "      <td>2.232</td>\n",
       "      <td>2951</td>\n",
       "      <td>274.8885</td>\n",
       "    </tr>\n",
       "  </tbody>\n",
       "</table>\n",
       "</div>"
      ],
      "text/plain": [
       "  Instrument  Bottle  FlaskVol  RawTitre  Titre20  O2ml/L  ThioTemp  DrawTemp  \\\n",
       "0      New A     257    138.61   0.62271  0.62247   6.157     21.86      21.5   \n",
       "1      New A     260    140.86   0.63292  0.63285   6.158     20.50      21.5   \n",
       "2      New A     263    137.65   0.61726  0.61720   6.148     20.49      21.5   \n",
       "3      New A     266    142.77   0.64096  0.64089   6.152     20.48      21.5   \n",
       "4      New B     258    138.45   0.74709  0.74689   6.154     21.31      21.5   \n",
       "\n",
       "   EndVolts  TitreTime  O2µmol/L  \n",
       "0     2.030       2101  274.8438  \n",
       "1     2.009       2318  274.9331  \n",
       "2     2.053       2617  274.4418  \n",
       "3     2.017       2934  274.6205  \n",
       "4     2.232       2951  274.8885  "
      ]
     },
     "execution_count": 31,
     "metadata": {},
     "output_type": "execute_result"
    }
   ],
   "source": [
    "atmospheric_all_df.head()"
   ]
  },
  {
   "cell_type": "markdown",
   "metadata": {},
   "source": [
    "### Plot just initial box plot scaled to the measurements"
   ]
  },
  {
   "cell_type": "code",
   "execution_count": 179,
   "metadata": {},
   "outputs": [
    {
     "data": {
      "image/png": "[encoded data removed]",
      "text/plain": [
       "<Figure size 576x360 with 1 Axes>"
      ]
     },
     "metadata": {},
     "output_type": "display_data"
    }
   ],
   "source": [
    "sns.boxplot(atmospheric_all_df['Instrument'], atmospheric_all_df['O2µmol/L'])\n",
    "\n",
    "plt.xlabel(\"Instrument\", fontsize=16)\n",
    "plt.ylabel(\"Concentration (uM)\", fontsize=16)\n",
    "plt.xticks(fontsize=14)\n",
    "plt.yticks(fontsize=12)\n",
    "plt.title('Atmospheric Sample', fontsize=18)\n",
    "\n",
    "plt.tight_layout()\n",
    "\n",
    "# Comment or include next two lines if wanting to scale chart for all\n",
    "#data_mean = atmospheric_all_df['O2µmol/L'].mean()\n",
    "#plt.ylim(data_mean-2, data_mean+2)\n",
    "\n",
    "plt.savefig('atmospheric_diff_instruments.svg', format='svg')"
   ]
  },
  {
   "cell_type": "markdown",
   "metadata": {},
   "source": [
    "### Plot with lines to indicate various QC limits"
   ]
  },
  {
   "cell_type": "code",
   "execution_count": 180,
   "metadata": {},
   "outputs": [
    {
     "data": {
      "image/png": "[encoded data removed]",
      "text/plain": [
       "<Figure size 576x360 with 1 Axes>"
      ]
     },
     "metadata": {},
     "output_type": "display_data"
    }
   ],
   "source": [
    "sns.boxplot(atmospheric_all_df['Instrument'], atmospheric_all_df['O2µmol/L'])\n",
    "\n",
    "plt.xlabel(\"Instrument\", fontsize=16)\n",
    "plt.ylabel(\"Concentration (uM)\", fontsize=16)\n",
    "plt.xticks(fontsize=14)\n",
    "plt.yticks(fontsize=12)\n",
    "plt.title('Atmospheric Sample w/QC Bars', fontsize=18)\n",
    "\n",
    "# Calculate the theoretical saturation\n",
    "MEASURED_SALINITY = 0\n",
    "MEASURED_TEMPERATURE = 21.5\n",
    "max_saturation = sw.satO2(MEASURED_SALINITY, MEASURED_TEMPERATURE)\n",
    "max_saturation_mol = max_saturation * 44.66\n",
    "\n",
    "max_saturation_mol_1pct = max_saturation_mol * 0.01\n",
    "\n",
    "# Plot the calculated saturation as a line on the chart\n",
    "plt.plot([-0.5, 2.5], [max_saturation_mol, max_saturation_mol], color=\"#32a858\")\n",
    "\n",
    "# Plot the 1% upper and lower lines\n",
    "plt.plot([-0.5, 2.5], [max_saturation_mol-max_saturation_mol_1pct, max_saturation_mol-max_saturation_mol_1pct], color=\"#2c5aa3\")\n",
    "plt.plot([-0.5, 2.5], [max_saturation_mol+max_saturation_mol_1pct, max_saturation_mol+max_saturation_mol_1pct], color=\"#2c5aa3\")\n",
    "\n",
    "# Plot the +- 1uM upper and lower lines\n",
    "plt.plot([-0.5, 2.5], [max_saturation_mol-1, max_saturation_mol-1], color=\"#2c9fa3\")\n",
    "plt.plot([-0.5, 2.5], [max_saturation_mol+1, max_saturation_mol+1], color=\"#2c9fa3\")\n",
    "\n",
    "# Plot the annotations\n",
    "plt.annotate('+1µM', xy=(2.28, max_saturation_mol+1-0.25))\n",
    "plt.annotate('+1%', xy=(2.32, max_saturation_mol+max_saturation_mol_1pct-0.25))\n",
    "plt.annotate('Calc. Sat.', xy=(2.14, max_saturation_mol-0.25))\n",
    "\n",
    "plt.tight_layout()\n",
    "\n",
    "# Comment or include next two lines if wanting to scale chart for all\n",
    "#data_mean = atmospheric_all_df['O2µmol/L'].mean()\n",
    "#plt.ylim(data_mean-2, data_mean+2)\n",
    "\n",
    "plt.savefig('atmospheric_diff_instruments_with_bars.svg', format='svg')"
   ]
  },
  {
   "cell_type": "markdown",
   "metadata": {},
   "source": [
    "---"
   ]
  },
  {
   "cell_type": "markdown",
   "metadata": {},
   "source": [
    "## 1.4 Atmospheric Sample: One Instrument"
   ]
  },
  {
   "cell_type": "code",
   "execution_count": 141,
   "metadata": {},
   "outputs": [],
   "source": [
    "atmospheric_one_df = pd.read_csv(r\"C:\\Users\\she384\\Documents\\DO Commissioning\\repo\\data\\atmospheric_one_instrument.csv\")"
   ]
  },
  {
   "cell_type": "code",
   "execution_count": 142,
   "metadata": {},
   "outputs": [
    {
     "data": {
      "text/html": [
       "<div>\n",
       "<style scoped>\n",
       "    .dataframe tbody tr th:only-of-type {\n",
       "        vertical-align: middle;\n",
       "    }\n",
       "\n",
       "    .dataframe tbody tr th {\n",
       "        vertical-align: top;\n",
       "    }\n",
       "\n",
       "    .dataframe thead th {\n",
       "        text-align: right;\n",
       "    }\n",
       "</style>\n",
       "<table border=\"1\" class=\"dataframe\">\n",
       "  <thead>\n",
       "    <tr style=\"text-align: right;\">\n",
       "      <th></th>\n",
       "      <th>Instrument</th>\n",
       "      <th>Bottle</th>\n",
       "      <th>FlaskVol</th>\n",
       "      <th>RawTitre</th>\n",
       "      <th>Titre20</th>\n",
       "      <th>O2ml/L</th>\n",
       "      <th>ThioTemp</th>\n",
       "      <th>DrawTemp</th>\n",
       "      <th>EndVolts</th>\n",
       "      <th>TitreTime</th>\n",
       "      <th>O2µmol/L</th>\n",
       "    </tr>\n",
       "  </thead>\n",
       "  <tbody>\n",
       "    <tr>\n",
       "      <th>0</th>\n",
       "      <td>New B</td>\n",
       "      <td>210</td>\n",
       "      <td>143.84</td>\n",
       "      <td>0.78354</td>\n",
       "      <td>0.78332</td>\n",
       "      <td>6.208</td>\n",
       "      <td>21.38</td>\n",
       "      <td>21.5</td>\n",
       "      <td>2.320</td>\n",
       "      <td>145535</td>\n",
       "      <td>277.3895</td>\n",
       "    </tr>\n",
       "    <tr>\n",
       "      <th>1</th>\n",
       "      <td>New B</td>\n",
       "      <td>211</td>\n",
       "      <td>144.58</td>\n",
       "      <td>0.78712</td>\n",
       "      <td>0.78686</td>\n",
       "      <td>6.204</td>\n",
       "      <td>21.60</td>\n",
       "      <td>21.5</td>\n",
       "      <td>2.327</td>\n",
       "      <td>145744</td>\n",
       "      <td>277.2108</td>\n",
       "    </tr>\n",
       "    <tr>\n",
       "      <th>2</th>\n",
       "      <td>New B</td>\n",
       "      <td>214</td>\n",
       "      <td>146.67</td>\n",
       "      <td>0.79938</td>\n",
       "      <td>0.79910</td>\n",
       "      <td>6.210</td>\n",
       "      <td>21.70</td>\n",
       "      <td>21.5</td>\n",
       "      <td>2.344</td>\n",
       "      <td>150012</td>\n",
       "      <td>277.4788</td>\n",
       "    </tr>\n",
       "    <tr>\n",
       "      <th>3</th>\n",
       "      <td>New B</td>\n",
       "      <td>216</td>\n",
       "      <td>144.35</td>\n",
       "      <td>0.78570</td>\n",
       "      <td>0.78541</td>\n",
       "      <td>6.203</td>\n",
       "      <td>21.77</td>\n",
       "      <td>21.5</td>\n",
       "      <td>2.306</td>\n",
       "      <td>150236</td>\n",
       "      <td>277.1662</td>\n",
       "    </tr>\n",
       "    <tr>\n",
       "      <th>4</th>\n",
       "      <td>New B</td>\n",
       "      <td>217</td>\n",
       "      <td>141.62</td>\n",
       "      <td>0.77087</td>\n",
       "      <td>0.77058</td>\n",
       "      <td>6.204</td>\n",
       "      <td>21.83</td>\n",
       "      <td>21.5</td>\n",
       "      <td>2.287</td>\n",
       "      <td>150440</td>\n",
       "      <td>277.2108</td>\n",
       "    </tr>\n",
       "  </tbody>\n",
       "</table>\n",
       "</div>"
      ],
      "text/plain": [
       "  Instrument  Bottle  FlaskVol  RawTitre  Titre20  O2ml/L  ThioTemp  DrawTemp  \\\n",
       "0      New B     210    143.84   0.78354  0.78332   6.208     21.38      21.5   \n",
       "1      New B     211    144.58   0.78712  0.78686   6.204     21.60      21.5   \n",
       "2      New B     214    146.67   0.79938  0.79910   6.210     21.70      21.5   \n",
       "3      New B     216    144.35   0.78570  0.78541   6.203     21.77      21.5   \n",
       "4      New B     217    141.62   0.77087  0.77058   6.204     21.83      21.5   \n",
       "\n",
       "   EndVolts  TitreTime  O2µmol/L  \n",
       "0     2.320     145535  277.3895  \n",
       "1     2.327     145744  277.2108  \n",
       "2     2.344     150012  277.4788  \n",
       "3     2.306     150236  277.1662  \n",
       "4     2.287     150440  277.2108  "
      ]
     },
     "execution_count": 142,
     "metadata": {},
     "output_type": "execute_result"
    }
   ],
   "source": [
    "atmospheric_one_df.head()"
   ]
  },
  {
   "cell_type": "code",
   "execution_count": 143,
   "metadata": {},
   "outputs": [
    {
     "data": {
      "image/png": "[encoded data removed]",
      "text/plain": [
       "<Figure size 576x360 with 1 Axes>"
      ]
     },
     "metadata": {},
     "output_type": "display_data"
    }
   ],
   "source": [
    "sns.lineplot(atmospheric_one_df.index, atmospheric_one_df['O2µmol/L'], lw=0, marker=\"o\", ms=10)\n",
    "\n",
    "plt.xlabel(\"Sample\", fontsize=16)\n",
    "plt.ylabel(\"Concentration (uM)\", fontsize=16)\n",
    "plt.xticks(fontsize=14)\n",
    "plt.yticks(fontsize=12)\n",
    "plt.title('Atmospheric Sample: Instrument New B', fontsize=18)\n",
    "\n",
    "plt.tight_layout()\n",
    "\n",
    "plt.savefig('atmospheric_one_instrument.svg', format='svg')"
   ]
  },
  {
   "cell_type": "code",
   "execution_count": 184,
   "metadata": {},
   "outputs": [
    {
     "data": {
      "image/png": "[encoded data removed]",
      "text/plain": [
       "<Figure size 576x360 with 1 Axes>"
      ]
     },
     "metadata": {},
     "output_type": "display_data"
    }
   ],
   "source": [
    "sns.lineplot(atmospheric_one_df.index, atmospheric_one_df['O2µmol/L'], lw=0, marker=\"o\", ms=10)\n",
    "\n",
    "plt.xlabel(\"Sample\", fontsize=16)\n",
    "plt.ylabel(\"Concentration (uM)\", fontsize=16)\n",
    "plt.xticks(fontsize=14)\n",
    "plt.yticks(fontsize=12)\n",
    "plt.title('Atmospheric Sample: Instrument New B', fontsize=18)\n",
    "\n",
    "plt.tight_layout()\n",
    "\n",
    "# Calculate the theoretical saturation\n",
    "MEASURED_SALINITY = 0\n",
    "MEASURED_TEMPERATURE = 21.5\n",
    "max_saturation = sw.satO2(MEASURED_SALINITY, MEASURED_TEMPERATURE)\n",
    "max_saturation_mol = max_saturation * 44.66\n",
    "\n",
    "max_saturation_mol_1pct = max_saturation_mol * 0.01\n",
    "\n",
    "# Plot the calculated saturation as a line on the chart\n",
    "plt.plot([-1, 13], [max_saturation_mol, max_saturation_mol], color=\"#32a858\")\n",
    "\n",
    "# Plot the 1% upper and lower lines\n",
    "plt.plot([-1, 13], [max_saturation_mol-max_saturation_mol_1pct, max_saturation_mol-max_saturation_mol_1pct], color=\"#2c5aa3\")\n",
    "plt.plot([-1, 13], [max_saturation_mol+max_saturation_mol_1pct, max_saturation_mol+max_saturation_mol_1pct], color=\"#2c5aa3\")\n",
    "\n",
    "# Plot the +- 1uM upper and lower lines\n",
    "plt.plot([-1, 13], [max_saturation_mol-1, max_saturation_mol-1], color=\"#2c9fa3\")\n",
    "plt.plot([-1, 13], [max_saturation_mol+1, max_saturation_mol+1], color=\"#2c9fa3\")\n",
    "\n",
    "# Plot the annotations\n",
    "plt.annotate('+1µM', xy=(12, max_saturation_mol+1-0.25))\n",
    "plt.annotate('+1%', xy=(12.18, max_saturation_mol+max_saturation_mol_1pct-0.25))\n",
    "plt.annotate('Calc. Sat.', xy=(11.4, max_saturation_mol-0.25))\n",
    "\n",
    "plt.xlim(-1, 13)\n",
    "\n",
    "plt.savefig('atmospheric_one_instrument_with_bars.svg', format='svg')"
   ]
  },
  {
   "cell_type": "code",
   "execution_count": 181,
   "metadata": {},
   "outputs": [
    {
     "data": {
      "image/png": "[encoded data removed]",
      "text/plain": [
       "<Figure size 576x360 with 1 Axes>"
      ]
     },
     "metadata": {},
     "output_type": "display_data"
    }
   ],
   "source": [
    "sns.boxplot(atmospheric_one_df['Instrument'], atmospheric_one_df['O2µmol/L'])\n",
    "\n",
    "plt.xlabel(\"Sample\", fontsize=16)\n",
    "plt.ylabel(\"Concentration (uM)\", fontsize=16)\n",
    "plt.xticks(fontsize=14)\n",
    "plt.yticks(fontsize=12)\n",
    "plt.title('Atmospheric Sample: Instrument New B', fontsize=18)\n",
    "\n",
    "plt.tight_layout()\n",
    "\n",
    "# Calculate the theoretical saturation\n",
    "MEASURED_SALINITY = 0\n",
    "MEASURED_TEMPERATURE = 21.5\n",
    "max_saturation = sw.satO2(MEASURED_SALINITY, MEASURED_TEMPERATURE)\n",
    "max_saturation_mol = max_saturation * 44.66\n",
    "\n",
    "max_saturation_mol_1pct = max_saturation_mol * 0.01\n",
    "\n",
    "# Plot the calculated saturation as a line on the chart\n",
    "plt.plot([-0.5, 0.5], [max_saturation_mol, max_saturation_mol], color=\"#32a858\")\n",
    "\n",
    "# Plot the 1% upper and lower lines\n",
    "plt.plot([-0.5, 0.5], [max_saturation_mol-max_saturation_mol_1pct, max_saturation_mol-max_saturation_mol_1pct], color=\"#2c5aa3\")\n",
    "plt.plot([-0.5, 0.5], [max_saturation_mol+max_saturation_mol_1pct, max_saturation_mol+max_saturation_mol_1pct], color=\"#2c5aa3\")\n",
    "\n",
    "# Plot the +- 1uM upper and lower lines\n",
    "plt.plot([-0.5, 0.5], [max_saturation_mol-1, max_saturation_mol-1], color=\"#2c9fa3\")\n",
    "plt.plot([-0.5, 0.5], [max_saturation_mol+1, max_saturation_mol+1], color=\"#2c9fa3\")\n",
    "\n",
    "# Plot the annotations\n",
    "plt.annotate('+1µM', xy=(0.42, max_saturation_mol+1-0.25))\n",
    "plt.annotate('+1%', xy=(0.44, max_saturation_mol+max_saturation_mol_1pct-0.25))\n",
    "plt.annotate('Calc. Sat.', xy=(0.38, max_saturation_mol-0.23))\n",
    "\n",
    "# Comment or include next two lines if wanting to scale chart for all\n",
    "#data_mean = atmospheric_one_df['O2µmol/L'].mean()\n",
    "#plt.ylim(data_mean-2, data_mean+2)\n",
    "\n",
    "plt.savefig('atmospheric_one_instrument_with_bars-boxplot-version.svg', format='svg')"
   ]
  },
  {
   "cell_type": "markdown",
   "metadata": {},
   "source": [
    "---"
   ]
  },
  {
   "cell_type": "markdown",
   "metadata": {},
   "source": [
    "## 1.5 Water Profile Comparison"
   ]
  },
  {
   "cell_type": "code",
   "execution_count": 101,
   "metadata": {},
   "outputs": [],
   "source": [
    "profile_comparison_df = pd.read_csv(r\"C:\\Users\\she384\\Documents\\DO Commissioning\\repo\\data\\profile_comparison.csv\")"
   ]
  },
  {
   "cell_type": "code",
   "execution_count": 102,
   "metadata": {},
   "outputs": [
    {
     "data": {
      "text/html": [
       "<div>\n",
       "<style scoped>\n",
       "    .dataframe tbody tr th:only-of-type {\n",
       "        vertical-align: middle;\n",
       "    }\n",
       "\n",
       "    .dataframe tbody tr th {\n",
       "        vertical-align: top;\n",
       "    }\n",
       "\n",
       "    .dataframe thead th {\n",
       "        text-align: right;\n",
       "    }\n",
       "</style>\n",
       "<table border=\"1\" class=\"dataframe\">\n",
       "  <thead>\n",
       "    <tr style=\"text-align: right;\">\n",
       "      <th></th>\n",
       "      <th>Instrument</th>\n",
       "      <th>Bottle</th>\n",
       "      <th>FlaskVol</th>\n",
       "      <th>RawTitre</th>\n",
       "      <th>Titre20</th>\n",
       "      <th>O2ml/L</th>\n",
       "      <th>ThioTemp</th>\n",
       "      <th>DrawTemp</th>\n",
       "      <th>EndVolts</th>\n",
       "      <th>TitreTime</th>\n",
       "      <th>O2µmol/L</th>\n",
       "      <th>RP</th>\n",
       "      <th>Pressure</th>\n",
       "    </tr>\n",
       "  </thead>\n",
       "  <tbody>\n",
       "    <tr>\n",
       "      <th>0</th>\n",
       "      <td>New A</td>\n",
       "      <td>278</td>\n",
       "      <td>142.48</td>\n",
       "      <td>0.59621</td>\n",
       "      <td>0.59623</td>\n",
       "      <td>5.734</td>\n",
       "      <td>19.83</td>\n",
       "      <td>14.0</td>\n",
       "      <td>2.282</td>\n",
       "      <td>201954</td>\n",
       "      <td>255.9969</td>\n",
       "      <td>24</td>\n",
       "      <td>5</td>\n",
       "    </tr>\n",
       "    <tr>\n",
       "      <th>1</th>\n",
       "      <td>New A</td>\n",
       "      <td>276</td>\n",
       "      <td>140.04</td>\n",
       "      <td>0.58568</td>\n",
       "      <td>0.58551</td>\n",
       "      <td>5.730</td>\n",
       "      <td>21.38</td>\n",
       "      <td>14.1</td>\n",
       "      <td>2.276</td>\n",
       "      <td>202345</td>\n",
       "      <td>255.8182</td>\n",
       "      <td>23</td>\n",
       "      <td>5</td>\n",
       "    </tr>\n",
       "    <tr>\n",
       "      <th>2</th>\n",
       "      <td>New A</td>\n",
       "      <td>627</td>\n",
       "      <td>145.60</td>\n",
       "      <td>0.60911</td>\n",
       "      <td>0.60893</td>\n",
       "      <td>5.729</td>\n",
       "      <td>21.45</td>\n",
       "      <td>14.1</td>\n",
       "      <td>2.299</td>\n",
       "      <td>202606</td>\n",
       "      <td>255.7735</td>\n",
       "      <td>22</td>\n",
       "      <td>5</td>\n",
       "    </tr>\n",
       "    <tr>\n",
       "      <th>3</th>\n",
       "      <td>New A</td>\n",
       "      <td>625</td>\n",
       "      <td>143.75</td>\n",
       "      <td>0.60031</td>\n",
       "      <td>0.60012</td>\n",
       "      <td>5.720</td>\n",
       "      <td>21.51</td>\n",
       "      <td>13.9</td>\n",
       "      <td>2.292</td>\n",
       "      <td>203001</td>\n",
       "      <td>255.3716</td>\n",
       "      <td>21</td>\n",
       "      <td>40</td>\n",
       "    </tr>\n",
       "    <tr>\n",
       "      <th>4</th>\n",
       "      <td>New A</td>\n",
       "      <td>623</td>\n",
       "      <td>140.11</td>\n",
       "      <td>0.58475</td>\n",
       "      <td>0.58456</td>\n",
       "      <td>5.718</td>\n",
       "      <td>21.53</td>\n",
       "      <td>13.9</td>\n",
       "      <td>2.258</td>\n",
       "      <td>205345</td>\n",
       "      <td>255.2823</td>\n",
       "      <td>20</td>\n",
       "      <td>40</td>\n",
       "    </tr>\n",
       "  </tbody>\n",
       "</table>\n",
       "</div>"
      ],
      "text/plain": [
       "  Instrument  Bottle  FlaskVol  RawTitre  Titre20  O2ml/L  ThioTemp  DrawTemp  \\\n",
       "0      New A     278    142.48   0.59621  0.59623   5.734     19.83      14.0   \n",
       "1      New A     276    140.04   0.58568  0.58551   5.730     21.38      14.1   \n",
       "2      New A     627    145.60   0.60911  0.60893   5.729     21.45      14.1   \n",
       "3      New A     625    143.75   0.60031  0.60012   5.720     21.51      13.9   \n",
       "4      New A     623    140.11   0.58475  0.58456   5.718     21.53      13.9   \n",
       "\n",
       "   EndVolts  TitreTime  O2µmol/L  RP  Pressure  \n",
       "0     2.282     201954  255.9969  24         5  \n",
       "1     2.276     202345  255.8182  23         5  \n",
       "2     2.299     202606  255.7735  22         5  \n",
       "3     2.292     203001  255.3716  21        40  \n",
       "4     2.258     205345  255.2823  20        40  "
      ]
     },
     "execution_count": 102,
     "metadata": {},
     "output_type": "execute_result"
    }
   ],
   "source": [
    "profile_comparison_df.head()"
   ]
  },
  {
   "cell_type": "code",
   "execution_count": 128,
   "metadata": {
    "scrolled": false
   },
   "outputs": [
    {
     "data": {
      "image/png": "[encoded data removed]",
      "text/plain": [
       "<Figure size 360x576 with 1 Axes>"
      ]
     },
     "metadata": {},
     "output_type": "display_data"
    }
   ],
   "source": [
    "instrument_new_a_df = profile_comparison_df.loc[profile_comparison_df['Instrument'] == 'New A']\n",
    "instrument_old_df = profile_comparison_df.loc[profile_comparison_df['Instrument'] == 'Old']\n",
    "\n",
    "plt.plot(instrument_new_a_df['O2µmol/L'], instrument_new_a_df['Pressure'], lw=0, marker=\"o\", ms=14, mfc=\"none\", mew=1.5, label=\"New A\")\n",
    "\n",
    "plt.plot(instrument_old_df['O2µmol/L'], instrument_old_df['Pressure'], lw=0, marker=\".\", ms=16, mfc=\"none\", mew=1.5, label=\"Old\")\n",
    "\n",
    "plt.xlabel(\"Concentration (uM)\", fontsize=16)\n",
    "plt.ylabel(\"Pressure (db)\", fontsize=16)\n",
    "plt.xticks(fontsize=14)\n",
    "plt.yticks(fontsize=12)\n",
    "plt.title('Profile Comparison', fontsize=18)\n",
    "\n",
    "plt.legend()\n",
    "\n",
    "plt.gca().invert_yaxis()\n",
    "\n",
    "fig = mpl.pyplot.gcf()\n",
    "fig.set_size_inches(5, 8)\n",
    "\n",
    "plt.tight_layout()\n",
    "\n",
    "plt.savefig('profile_comparison.svg', format='svg')"
   ]
  },
  {
   "cell_type": "markdown",
   "metadata": {},
   "source": [
    "### 1.5.1 T-Test Comparison of means"
   ]
  },
  {
   "cell_type": "code",
   "execution_count": 192,
   "metadata": {},
   "outputs": [
    {
     "name": "stdout",
     "output_type": "stream",
     "text": [
      "For the tested depths, the t-test p-value is shown\n",
      "At depth: 5 the p-value is: 0.10839798708992938\n",
      "At depth: 40 the p-value is: 0.3026985172966608\n",
      "At depth: 800 the p-value is: 0.9008494336784751\n",
      "At depth: 1000 the p-value is: 0.8665430859682957\n"
     ]
    }
   ],
   "source": [
    "results_dict = {}\n",
    "depths_to_test = [5, 40, 800, 1000]\n",
    "for depth in depths_to_test:\n",
    "    instrument_a_depth_subset = instrument_new_a_df.loc[instrument_new_a_df['Pressure'] == depth]\n",
    "    instrument_old_depth_subset = instrument_old_df.loc[instrument_old_df['Pressure'] == depth]\n",
    "    result = sci_st.ttest_ind(instrument_a_depth_subset['O2µmol/L'], instrument_old_depth_subset['O2µmol/L'])\n",
    "    results_dict[depth] = result[1]\n",
    "\n",
    "print(\"For the tested depths, the t-test p-value is shown\")\n",
    "for key in results_dict:\n",
    "    print(f'At depth: {key} the p-value is: {results_dict[key]}')"
   ]
  },
  {
   "cell_type": "markdown",
   "metadata": {},
   "source": [
    "---"
   ]
  },
  {
   "cell_type": "markdown",
   "metadata": {},
   "source": [
    "## 1.6 Repeated Deep Sample Measurements: 2"
   ]
  },
  {
   "cell_type": "code",
   "execution_count": 129,
   "metadata": {},
   "outputs": [],
   "source": [
    "deep_reps_two_df = pd.read_csv(r\"C:\\Users\\she384\\Documents\\DO Commissioning\\repo\\data\\dep_2_deep_replicates.csv\")"
   ]
  },
  {
   "cell_type": "code",
   "execution_count": 182,
   "metadata": {},
   "outputs": [
    {
     "data": {
      "text/html": [
       "<div>\n",
       "<style scoped>\n",
       "    .dataframe tbody tr th:only-of-type {\n",
       "        vertical-align: middle;\n",
       "    }\n",
       "\n",
       "    .dataframe tbody tr th {\n",
       "        vertical-align: top;\n",
       "    }\n",
       "\n",
       "    .dataframe thead th {\n",
       "        text-align: right;\n",
       "    }\n",
       "</style>\n",
       "<table border=\"1\" class=\"dataframe\">\n",
       "  <thead>\n",
       "    <tr style=\"text-align: right;\">\n",
       "      <th></th>\n",
       "      <th>Instrument</th>\n",
       "      <th>Bottle</th>\n",
       "      <th>FlaskVol</th>\n",
       "      <th>RawTitre</th>\n",
       "      <th>Titre20</th>\n",
       "      <th>O2ml/L</th>\n",
       "      <th>ThioTemp</th>\n",
       "      <th>DrawTemp</th>\n",
       "      <th>EndVolts</th>\n",
       "      <th>TitreTime</th>\n",
       "      <th>O2µmol/L</th>\n",
       "      <th>RP</th>\n",
       "    </tr>\n",
       "  </thead>\n",
       "  <tbody>\n",
       "    <tr>\n",
       "      <th>0</th>\n",
       "      <td>New A</td>\n",
       "      <td>675</td>\n",
       "      <td>135.77</td>\n",
       "      <td>0.41383</td>\n",
       "      <td>0.41379</td>\n",
       "      <td>4.174</td>\n",
       "      <td>20.46</td>\n",
       "      <td>6.3</td>\n",
       "      <td>2.085</td>\n",
       "      <td>5547</td>\n",
       "      <td>186.3257</td>\n",
       "      <td>2</td>\n",
       "    </tr>\n",
       "    <tr>\n",
       "      <th>1</th>\n",
       "      <td>New A</td>\n",
       "      <td>678</td>\n",
       "      <td>139.77</td>\n",
       "      <td>0.42626</td>\n",
       "      <td>0.42625</td>\n",
       "      <td>4.175</td>\n",
       "      <td>20.12</td>\n",
       "      <td>6.3</td>\n",
       "      <td>2.443</td>\n",
       "      <td>5948</td>\n",
       "      <td>186.4150</td>\n",
       "      <td>5</td>\n",
       "    </tr>\n",
       "    <tr>\n",
       "      <th>2</th>\n",
       "      <td>New A</td>\n",
       "      <td>681</td>\n",
       "      <td>141.76</td>\n",
       "      <td>0.43149</td>\n",
       "      <td>0.43148</td>\n",
       "      <td>4.166</td>\n",
       "      <td>20.18</td>\n",
       "      <td>6.5</td>\n",
       "      <td>2.452</td>\n",
       "      <td>10147</td>\n",
       "      <td>186.0131</td>\n",
       "      <td>8</td>\n",
       "    </tr>\n",
       "    <tr>\n",
       "      <th>3</th>\n",
       "      <td>New A</td>\n",
       "      <td>684</td>\n",
       "      <td>138.61</td>\n",
       "      <td>0.42143</td>\n",
       "      <td>0.42141</td>\n",
       "      <td>4.163</td>\n",
       "      <td>20.24</td>\n",
       "      <td>6.5</td>\n",
       "      <td>2.407</td>\n",
       "      <td>10343</td>\n",
       "      <td>185.8344</td>\n",
       "      <td>11</td>\n",
       "    </tr>\n",
       "    <tr>\n",
       "      <th>4</th>\n",
       "      <td>New A</td>\n",
       "      <td>687</td>\n",
       "      <td>141.65</td>\n",
       "      <td>0.43127</td>\n",
       "      <td>0.43125</td>\n",
       "      <td>4.167</td>\n",
       "      <td>20.27</td>\n",
       "      <td>6.5</td>\n",
       "      <td>2.439</td>\n",
       "      <td>10624</td>\n",
       "      <td>186.0577</td>\n",
       "      <td>14</td>\n",
       "    </tr>\n",
       "  </tbody>\n",
       "</table>\n",
       "</div>"
      ],
      "text/plain": [
       "  Instrument  Bottle  FlaskVol  RawTitre  Titre20  O2ml/L  ThioTemp  DrawTemp  \\\n",
       "0      New A     675    135.77   0.41383  0.41379   4.174     20.46       6.3   \n",
       "1      New A     678    139.77   0.42626  0.42625   4.175     20.12       6.3   \n",
       "2      New A     681    141.76   0.43149  0.43148   4.166     20.18       6.5   \n",
       "3      New A     684    138.61   0.42143  0.42141   4.163     20.24       6.5   \n",
       "4      New A     687    141.65   0.43127  0.43125   4.167     20.27       6.5   \n",
       "\n",
       "   EndVolts  TitreTime  O2µmol/L  RP  \n",
       "0     2.085       5547  186.3257   2  \n",
       "1     2.443       5948  186.4150   5  \n",
       "2     2.452      10147  186.0131   8  \n",
       "3     2.407      10343  185.8344  11  \n",
       "4     2.439      10624  186.0577  14  "
      ]
     },
     "execution_count": 182,
     "metadata": {},
     "output_type": "execute_result"
    }
   ],
   "source": [
    "deep_reps_two_df.head()"
   ]
  },
  {
   "cell_type": "code",
   "execution_count": 183,
   "metadata": {},
   "outputs": [
    {
     "data": {
      "image/png": "[encoded data removed]",
      "text/plain": [
       "<Figure size 576x360 with 1 Axes>"
      ]
     },
     "metadata": {},
     "output_type": "display_data"
    }
   ],
   "source": [
    "sns.boxplot(deep_reps_two_df['Instrument'], deep_reps_two_df['O2µmol/L'])\n",
    "\n",
    "plt.xlabel(\"Instrument\", fontsize=16)\n",
    "plt.ylabel(\"Concentration (uM)\", fontsize=16)\n",
    "plt.xticks(fontsize=14)\n",
    "plt.yticks(fontsize=12)\n",
    "plt.title('D2 Replicate Samples', fontsize=18)\n",
    "\n",
    "plt.tight_layout()\n",
    "\n",
    "# Comment or include next two lines if wanting to scale chart for all\n",
    "#data_mean = deep_reps_two_df['O2µmol/L'].mean()\n",
    "#plt.ylim(data_mean-2, data_mean+2)\n",
    "\n",
    "plt.savefig('replicate_deep_samples_2.svg', format='svg')"
   ]
  },
  {
   "cell_type": "markdown",
   "metadata": {},
   "source": [
    "### 1.6.1 T-Test Comparison of Means"
   ]
  },
  {
   "cell_type": "code",
   "execution_count": 193,
   "metadata": {},
   "outputs": [],
   "source": [
    "deep_reps_two_newa = deep_reps_two_df.loc[deep_reps_two_df['Instrument'] == 'New A']\n",
    "deep_reps_two_newb = deep_reps_two_df.loc[deep_reps_two_df['Instrument'] == 'New B']\n",
    "deep_reps_two_old = deep_reps_two_df.loc[deep_reps_two_df['Instrument'] == 'Old']"
   ]
  },
  {
   "cell_type": "markdown",
   "metadata": {},
   "source": [
    "#### Compare New A to the Old instrument"
   ]
  },
  {
   "cell_type": "code",
   "execution_count": 195,
   "metadata": {},
   "outputs": [
    {
     "name": "stdout",
     "output_type": "stream",
     "text": [
      "Comparison of the New A instrument to Old, p-value: 0.039304940051647204\n",
      "Significance !\n"
     ]
    }
   ],
   "source": [
    "result = sci_st.ttest_ind(deep_reps_two_newa['O2µmol/L'], deep_reps_two_old['O2µmol/L'])\n",
    "print(f'Comparison of the New A instrument to Old, p-value: {result[1]}')\n",
    "if result[1] < 0.05:\n",
    "    print('Significance !')"
   ]
  },
  {
   "cell_type": "markdown",
   "metadata": {},
   "source": [
    "#### Compare New B to Old instrument"
   ]
  },
  {
   "cell_type": "code",
   "execution_count": 196,
   "metadata": {},
   "outputs": [
    {
     "name": "stdout",
     "output_type": "stream",
     "text": [
      "Comparison of the New B instrument to Old, p-value: 0.11189671028378533\n"
     ]
    }
   ],
   "source": [
    "result = sci_st.ttest_ind(deep_reps_two_newb['O2µmol/L'], deep_reps_two_old['O2µmol/L'])\n",
    "print(f'Comparison of the New B instrument to Old, p-value: {result[1]}')\n",
    "if result[1] < 0.05:\n",
    "    print('Significance !')"
   ]
  },
  {
   "cell_type": "code",
   "execution_count": null,
   "metadata": {},
   "outputs": [],
   "source": []
  }
 ],
 "metadata": {
  "kernelspec": {
   "display_name": "Python 3",
   "language": "python",
   "name": "python3"
  },
  "language_info": {
   "codemirror_mode": {
    "name": "ipython",
    "version": 3
   },
   "file_extension": ".py",
   "mimetype": "text/x-python",
   "name": "python",
   "nbconvert_exporter": "python",
   "pygments_lexer": "ipython3",
   "version": "3.7.4"
  }
 },
 "nbformat": 4,
 "nbformat_minor": 2
}
